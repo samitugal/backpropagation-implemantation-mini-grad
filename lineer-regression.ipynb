{
 "cells": [
  {
   "cell_type": "code",
   "execution_count": 149,
   "metadata": {},
   "outputs": [],
   "source": [
    "import numpy as np\n",
    "import matplotlib.pyplot as plt"
   ]
  },
  {
   "cell_type": "code",
   "execution_count": 150,
   "metadata": {},
   "outputs": [],
   "source": [
    "def f(x):\n",
    "  return 5*x + 15"
   ]
  },
  {
   "cell_type": "code",
   "execution_count": 151,
   "metadata": {},
   "outputs": [],
   "source": [
    "X = np.random.rand(100, 1)\n",
    "Y = f(X)"
   ]
  },
  {
   "cell_type": "code",
   "execution_count": 152,
   "metadata": {},
   "outputs": [
    {
     "data": {
      "text/plain": [
       "[<matplotlib.lines.Line2D at 0x19a28e2ee90>]"
      ]
     },
     "execution_count": 152,
     "metadata": {},
     "output_type": "execute_result"
    },
    {
     "data": {
      "image/png": "[encoded data removed]",
      "text/plain": [
       "<Figure size 640x480 with 1 Axes>"
      ]
     },
     "metadata": {},
     "output_type": "display_data"
    }
   ],
   "source": [
    "xs = np.arange(-5, 5, 0.25)\n",
    "ys = f(xs)\n",
    "plt.plot(xs, ys)"
   ]
  },
  {
   "cell_type": "code",
   "execution_count": 153,
   "metadata": {},
   "outputs": [],
   "source": [
    "class LineerRegression:\n",
    "    def __init__(self, lr = 0.001, epochs = 1000):\n",
    "        self.lr = lr\n",
    "        self.epochs = epochs\n",
    "        self.w = None # Weight\n",
    "        self.b = None # Bias\n",
    "\n",
    "    def dot_product(self, X, w, b):\n",
    "        m = len(X) # How many samples\n",
    "        predictions = []\n",
    "\n",
    "        for i in range(m):\n",
    "            x_i = X[i]\n",
    "            dot = 0.0\n",
    "            for j in range(len(x_i)):\n",
    "                dot += x_i[j] * w[j][0]\n",
    "            y_hat = dot + b\n",
    "            predictions.append([y_hat])\n",
    "\n",
    "        return predictions\n",
    "    \n",
    "    def compute_gradients(self, X, error):\n",
    "        m = len(X)\n",
    "        dw = 0.0 # Gradient of w\n",
    "        db = 0.0 # Gradient of b\n",
    "\n",
    "        for i in range(m):\n",
    "            xi = X[i][0]\n",
    "            ei = error[i][0]\n",
    "\n",
    "            dw += xi * ei\n",
    "            db += ei\n",
    "\n",
    "        dw = (2/m) * dw\n",
    "        db = (2/m) * db\n",
    "\n",
    "        return dw, db\n",
    "\n",
    "    def fit(self, X, Y):\n",
    "        m, n = X.shape\n",
    "        self.w = np.zeros((n, 1))\n",
    "        self.b = 0\n",
    "\n",
    "        for epoch in range(self.epochs+1):\n",
    "            y_pred = self.dot_product(X, self.w, self.b)\n",
    "            error = y_pred - Y\n",
    "\n",
    "            dw, db = self.compute_gradients(X, error)\n",
    "\n",
    "            self.w -= self.lr * dw \n",
    "            self.b -= self.lr * db\n",
    "\n",
    "            if epoch % 100 == 0:\n",
    "                loss = np.mean(error ** 2)\n",
    "                print(f\"Epoch {epoch} | Loss: {loss:.4f} | w: {self.w[0][0]:.4f} | b: {self.b:.4f} | f(x): {self.w[0][0]}x + {self.b:.4f} \")\n",
    "\n",
    "    def predict(self, X):\n",
    "        return X.dot(self.w) + self.b\n"
   ]
  },
  {
   "cell_type": "code",
   "execution_count": 155,
   "metadata": {},
   "outputs": [
    {
     "name": "stdout",
     "output_type": "stream",
     "text": [
      "Epoch 0 | Loss: 305.2711 | w: 0.0177 | b: 0.0348 | f(x): 0.017659172340239167x + 0.0348 \n",
      "Epoch 100 | Loss: 185.2161 | w: 1.5746 | b: 3.1129 | f(x): 1.574575423794051x + 3.1129 \n",
      "Epoch 200 | Loss: 112.4334 | w: 2.7804 | b: 5.5128 | f(x): 2.780361254705456x + 5.5128 \n",
      "Epoch 300 | Loss: 68.3076 | w: 3.7129 | b: 7.3846 | f(x): 3.7128501134609433x + 7.3846 \n",
      "Epoch 400 | Loss: 41.5541 | w: 4.4326 | b: 8.8452 | f(x): 4.432641309776281x + 8.8452 \n",
      "Epoch 500 | Loss: 25.3318 | w: 4.9869 | b: 9.9856 | f(x): 4.986915788313129x + 9.9856 \n",
      "Epoch 600 | Loss: 15.4938 | w: 5.4124 | b: 10.8767 | f(x): 5.4124070638216555x + 10.8767 \n",
      "Epoch 700 | Loss: 9.5260 | w: 5.7377 | b: 11.5736 | f(x): 5.737714370793856x + 11.5736 \n",
      "Epoch 800 | Loss: 5.9046 | w: 5.9851 | b: 12.1192 | f(x): 5.985103665809937x + 12.1192 \n",
      "Epoch 900 | Loss: 3.7056 | w: 6.1719 | b: 12.5471 | f(x): 6.1719098754763895x + 12.5471 \n",
      "Epoch 1000 | Loss: 2.3690 | w: 6.3116 | b: 12.8832 | f(x): 6.311628676895912x + 12.8832 \n"
     ]
    }
   ],
   "source": [
    "lr = LineerRegression()\n",
    "train = lr.fit(X, Y)\n",
    "train"
   ]
  },
  {
   "cell_type": "code",
   "execution_count": null,
   "metadata": {},
   "outputs": [],
   "source": [
    "lr = LineerRegression()\n",
    "train = lr.fit(X, Y)\n",
    "train"
   ]
  },
  {
   "cell_type": "code",
   "execution_count": 156,
   "metadata": {},
   "outputs": [
    {
     "data": {
      "text/plain": [
       "array([[19.19478211],\n",
       "       [25.50641079],\n",
       "       [31.81803946],\n",
       "       [38.12966814],\n",
       "       [44.44129682]])"
      ]
     },
     "execution_count": 156,
     "metadata": {},
     "output_type": "execute_result"
    }
   ],
   "source": [
    "dummy_data = np.array([[1], [2], [3], [4], [5]]) # Expected Outputs: 20, 25, 30, 35, 40\n",
    "predictions = lr.predict(dummy_data)\n",
    "\n",
    "predictions"
   ]
  }
 ],
 "metadata": {
  "language_info": {
   "name": "python"
  }
 },
 "nbformat": 4,
 "nbformat_minor": 2
}
