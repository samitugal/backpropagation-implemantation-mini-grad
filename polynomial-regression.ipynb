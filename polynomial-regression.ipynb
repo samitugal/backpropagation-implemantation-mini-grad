{
 "cells": [
  {
   "cell_type": "code",
   "execution_count": 209,
   "id": "5bece6cf",
   "metadata": {},
   "outputs": [],
   "source": [
    "import numpy as np\n",
    "import matplotlib.pyplot as plt"
   ]
  },
  {
   "cell_type": "code",
   "execution_count": 210,
   "id": "ebd97210",
   "metadata": {},
   "outputs": [],
   "source": [
    "def f(x):\n",
    "  return 3*x**3 - 2*x**2  + 4*x - 1"
   ]
  },
  {
   "cell_type": "code",
   "execution_count": 211,
   "id": "5fef6fd4",
   "metadata": {},
   "outputs": [],
   "source": [
    "X = np.random.rand(100, 1)\n",
    "Y = f(X)"
   ]
  },
  {
   "cell_type": "code",
   "execution_count": 212,
   "id": "aa0779db",
   "metadata": {},
   "outputs": [
    {
     "data": {
      "text/plain": [
       "[<matplotlib.lines.Line2D at 0x228d496f690>]"
      ]
     },
     "execution_count": 212,
     "metadata": {},
     "output_type": "execute_result"
    },
    {
     "data": {
      "image/png": "[encoded data removed]",
      "text/plain": [
       "<Figure size 640x480 with 1 Axes>"
      ]
     },
     "metadata": {},
     "output_type": "display_data"
    }
   ],
   "source": [
    "xs = np.arange(-5, 5, 0.25)\n",
    "ys = f(xs)\n",
    "plt.plot(xs, ys)"
   ]
  },
  {
   "cell_type": "code",
   "execution_count": 213,
   "id": "d91d2ade",
   "metadata": {},
   "outputs": [
    {
     "data": {
      "text/plain": [
       "array([[0.1988424 , 0.0395383 , 0.00786189],\n",
       "       [0.71134195, 0.50600737, 0.35994427],\n",
       "       [0.79017554, 0.62437738, 0.49336774],\n",
       "       [0.60595997, 0.36718749, 0.22250092],\n",
       "       [0.92630088, 0.85803332, 0.79479702]])"
      ]
     },
     "execution_count": 213,
     "metadata": {},
     "output_type": "execute_result"
    }
   ],
   "source": [
    "# Expanding the features for polynomial regression\n",
    "def polynomial_features(X, degree):\n",
    "    m = X.shape[0]\n",
    "    features = []\n",
    "\n",
    "    for i in range(m):\n",
    "        row = []\n",
    "        for d in range(1, degree + 1):\n",
    "            row.append(X[i][0] ** d)\n",
    "        features.append(row)\n",
    "\n",
    "    return np.array(features)\n",
    "\n",
    "polynomial_features(X, 3)[0:5]"
   ]
  },
  {
   "cell_type": "code",
   "execution_count": 214,
   "id": "6807d971",
   "metadata": {},
   "outputs": [],
   "source": [
    "def dot_product(X, w, b):\n",
    "    m = len(X)\n",
    "    predictions = []\n",
    "\n",
    "    for i in range(m):\n",
    "        dot = 0.0\n",
    "        for j in range(len(X[i])):\n",
    "            dot += X[i][j] * w[j][0]\n",
    "        y_hat = dot + b\n",
    "        predictions.append([y_hat])\n",
    "\n",
    "    return np.array(predictions)"
   ]
  },
  {
   "cell_type": "code",
   "execution_count": 215,
   "id": "d43e7fc7",
   "metadata": {},
   "outputs": [],
   "source": [
    "def compute_gradients(X, error):\n",
    "    m = len(X)\n",
    "    n = len(X[0])\n",
    "    dw = np.zeros((n, 1))\n",
    "    db = 0.0\n",
    "\n",
    "    for i in range(m):\n",
    "        for j in range(n):\n",
    "            dw[j][0] += X[i][j] * error[i][0]\n",
    "        db += error[i][0]\n",
    "\n",
    "    dw *= 2 / m\n",
    "    db *= 2 / m\n",
    "    return dw, db"
   ]
  },
  {
   "cell_type": "code",
   "execution_count": 216,
   "id": "ccae79d9",
   "metadata": {},
   "outputs": [],
   "source": [
    "class PolynomialRegression:\n",
    "    def __init__(self, degree=3, lr=0.001, epochs=10000):\n",
    "        self.degree = degree\n",
    "        self.lr = lr\n",
    "        self.epochs = epochs\n",
    "\n",
    "    def fit(self, X, y):\n",
    "        X_poly = polynomial_features(X, self.degree)\n",
    "        m, n = X_poly.shape\n",
    "        self.w = np.zeros((n, 1))\n",
    "        self.b = 0\n",
    "\n",
    "        for epoch in range(self.epochs):\n",
    "            y_pred = dot_product(X_poly, self.w, self.b)\n",
    "            error = y_pred - y\n",
    "\n",
    "            dw, db = compute_gradients(X_poly, error)\n",
    "\n",
    "            for j in range(len(self.w)):\n",
    "                self.w[j][0] -= self.lr * dw[j][0]\n",
    "            self.b -= self.lr * db\n",
    "\n",
    "            if epoch % 100 == 0:\n",
    "                loss = np.mean(error ** 2)\n",
    "                \n",
    "                terms = \" + \".join([\n",
    "                    f\"{self.w.ravel()[i]:.4f}x^{self.degree - i}\"\n",
    "                    for i in range(self.degree)\n",
    "                ])         \n",
    "                print(f\"Epoch {epoch} | Loss: {loss:.4f} | f(x) = {terms} + {self.b:.4f}\")\n",
    "\n",
    "\n",
    "    def predict(self, X):\n",
    "        X_poly = polynomial_features(X, self.degree)\n",
    "        return X_poly.dot(self.w) + self.b"
   ]
  },
  {
   "cell_type": "code",
   "execution_count": 217,
   "id": "0d7fbce3",
   "metadata": {},
   "outputs": [
    {
     "name": "stdout",
     "output_type": "stream",
     "text": [
      "Epoch 0 | Loss: 2.6906 | f(x) = 0.0017x^3 + 0.0014x^2 + 0.0011x^1 + 0.0021\n",
      "Epoch 100 | Loss: 1.9001 | f(x) = 0.1522x^3 + 0.1243x^2 + 0.1037x^1 + 0.1750\n",
      "Epoch 200 | Loss: 1.4357 | f(x) = 0.2715x^3 + 0.2253x^2 + 0.1892x^1 + 0.2944\n",
      "Epoch 300 | Loss: 1.1546 | f(x) = 0.3672x^3 + 0.3095x^2 + 0.2617x^1 + 0.3740\n",
      "Epoch 400 | Loss: 0.9770 | f(x) = 0.4451x^3 + 0.3809x^2 + 0.3243x^1 + 0.4243\n",
      "Epoch 500 | Loss: 0.8584 | f(x) = 0.5096x^3 + 0.4425x^2 + 0.3791x^1 + 0.4528\n",
      "Epoch 600 | Loss: 0.7739 | f(x) = 0.5638x^3 + 0.4966x^2 + 0.4280x^1 + 0.4655\n",
      "Epoch 700 | Loss: 0.7094 | f(x) = 0.6102x^3 + 0.5447x^2 + 0.4721x^1 + 0.4665\n",
      "Epoch 800 | Loss: 0.6572 | f(x) = 0.6506x^3 + 0.5883x^2 + 0.5124x^1 + 0.4591\n",
      "Epoch 900 | Loss: 0.6127 | f(x) = 0.6864x^3 + 0.6281x^2 + 0.5497x^1 + 0.4457\n",
      "Epoch 1000 | Loss: 0.5735 | f(x) = 0.7185x^3 + 0.6649x^2 + 0.5844x^1 + 0.4280\n",
      "Epoch 1100 | Loss: 0.5381 | f(x) = 0.7478x^3 + 0.6993x^2 + 0.6171x^1 + 0.4073\n",
      "Epoch 1200 | Loss: 0.5057 | f(x) = 0.7747x^3 + 0.7317x^2 + 0.6480x^1 + 0.3847\n",
      "Epoch 1300 | Loss: 0.4756 | f(x) = 0.7998x^3 + 0.7623x^2 + 0.6774x^1 + 0.3607\n",
      "Epoch 1400 | Loss: 0.4476 | f(x) = 0.8234x^3 + 0.7914x^2 + 0.7055x^1 + 0.3361\n",
      "Epoch 1500 | Loss: 0.4213 | f(x) = 0.8457x^3 + 0.8193x^2 + 0.7324x^1 + 0.3110\n",
      "Epoch 1600 | Loss: 0.3968 | f(x) = 0.8669x^3 + 0.8460x^2 + 0.7581x^1 + 0.2860\n",
      "Epoch 1700 | Loss: 0.3737 | f(x) = 0.8872x^3 + 0.8716x^2 + 0.7830x^1 + 0.2610\n",
      "Epoch 1800 | Loss: 0.3521 | f(x) = 0.9066x^3 + 0.8963x^2 + 0.8069x^1 + 0.2364\n",
      "Epoch 1900 | Loss: 0.3317 | f(x) = 0.9253x^3 + 0.9201x^2 + 0.8299x^1 + 0.2122\n",
      "Epoch 2000 | Loss: 0.3126 | f(x) = 0.9433x^3 + 0.9431x^2 + 0.8521x^1 + 0.1884\n",
      "Epoch 2100 | Loss: 0.2946 | f(x) = 0.9607x^3 + 0.9653x^2 + 0.8736x^1 + 0.1652\n",
      "Epoch 2200 | Loss: 0.2777 | f(x) = 0.9775x^3 + 0.9868x^2 + 0.8944x^1 + 0.1425\n",
      "Epoch 2300 | Loss: 0.2618 | f(x) = 0.9938x^3 + 1.0076x^2 + 0.9145x^1 + 0.1204\n",
      "Epoch 2400 | Loss: 0.2468 | f(x) = 1.0096x^3 + 1.0277x^2 + 0.9339x^1 + 0.0989\n",
      "Epoch 2500 | Loss: 0.2328 | f(x) = 1.0249x^3 + 1.0472x^2 + 0.9527x^1 + 0.0779\n",
      "Epoch 2600 | Loss: 0.2195 | f(x) = 1.0398x^3 + 1.0661x^2 + 0.9709x^1 + 0.0576\n",
      "Epoch 2700 | Loss: 0.2071 | f(x) = 1.0542x^3 + 1.0843x^2 + 0.9885x^1 + 0.0378\n",
      "Epoch 2800 | Loss: 0.1954 | f(x) = 1.0682x^3 + 1.1021x^2 + 1.0055x^1 + 0.0186\n",
      "Epoch 2900 | Loss: 0.1844 | f(x) = 1.0818x^3 + 1.1192x^2 + 1.0219x^1 + -0.0000\n",
      "Epoch 3000 | Loss: 0.1741 | f(x) = 1.0950x^3 + 1.1358x^2 + 1.0379x^1 + -0.0182\n",
      "Epoch 3100 | Loss: 0.1644 | f(x) = 1.1078x^3 + 1.1520x^2 + 1.0533x^1 + -0.0357\n",
      "Epoch 3200 | Loss: 0.1552 | f(x) = 1.1203x^3 + 1.1676x^2 + 1.0682x^1 + -0.0528\n",
      "Epoch 3300 | Loss: 0.1466 | f(x) = 1.1325x^3 + 1.1827x^2 + 1.0827x^1 + -0.0694\n",
      "Epoch 3400 | Loss: 0.1385 | f(x) = 1.1443x^3 + 1.1974x^2 + 1.0967x^1 + -0.0854\n",
      "Epoch 3500 | Loss: 0.1309 | f(x) = 1.1557x^3 + 1.2116x^2 + 1.1102x^1 + -0.1010\n",
      "Epoch 3600 | Loss: 0.1238 | f(x) = 1.1669x^3 + 1.2254x^2 + 1.1233x^1 + -0.1161\n",
      "Epoch 3700 | Loss: 0.1171 | f(x) = 1.1777x^3 + 1.2387x^2 + 1.1359x^1 + -0.1308\n",
      "Epoch 3800 | Loss: 0.1107 | f(x) = 1.1883x^3 + 1.2517x^2 + 1.1482x^1 + -0.1451\n",
      "Epoch 3900 | Loss: 0.1048 | f(x) = 1.1986x^3 + 1.2642x^2 + 1.1600x^1 + -0.1589\n",
      "Epoch 4000 | Loss: 0.0992 | f(x) = 1.2086x^3 + 1.2764x^2 + 1.1715x^1 + -0.1723\n",
      "Epoch 4100 | Loss: 0.0939 | f(x) = 1.2183x^3 + 1.2882x^2 + 1.1826x^1 + -0.1853\n",
      "Epoch 4200 | Loss: 0.0890 | f(x) = 1.2277x^3 + 1.2996x^2 + 1.1933x^1 + -0.1980\n",
      "Epoch 4300 | Loss: 0.0843 | f(x) = 1.2369x^3 + 1.3107x^2 + 1.2037x^1 + -0.2102\n",
      "Epoch 4400 | Loss: 0.0800 | f(x) = 1.2459x^3 + 1.3214x^2 + 1.2137x^1 + -0.2221\n",
      "Epoch 4500 | Loss: 0.0759 | f(x) = 1.2546x^3 + 1.3318x^2 + 1.2234x^1 + -0.2337\n",
      "Epoch 4600 | Loss: 0.0720 | f(x) = 1.2631x^3 + 1.3419x^2 + 1.2328x^1 + -0.2449\n",
      "Epoch 4700 | Loss: 0.0683 | f(x) = 1.2714x^3 + 1.3516x^2 + 1.2418x^1 + -0.2557\n",
      "Epoch 4800 | Loss: 0.0649 | f(x) = 1.2794x^3 + 1.3611x^2 + 1.2506x^1 + -0.2663\n",
      "Epoch 4900 | Loss: 0.0617 | f(x) = 1.2872x^3 + 1.3703x^2 + 1.2591x^1 + -0.2765\n",
      "Epoch 5000 | Loss: 0.0587 | f(x) = 1.2949x^3 + 1.3792x^2 + 1.2673x^1 + -0.2864\n",
      "Epoch 5100 | Loss: 0.0558 | f(x) = 1.3023x^3 + 1.3878x^2 + 1.2752x^1 + -0.2961\n",
      "Epoch 5200 | Loss: 0.0531 | f(x) = 1.3095x^3 + 1.3961x^2 + 1.2828x^1 + -0.3054\n",
      "Epoch 5300 | Loss: 0.0506 | f(x) = 1.3166x^3 + 1.4042x^2 + 1.2902x^1 + -0.3145\n",
      "Epoch 5400 | Loss: 0.0482 | f(x) = 1.3235x^3 + 1.4120x^2 + 1.2973x^1 + -0.3233\n",
      "Epoch 5500 | Loss: 0.0460 | f(x) = 1.3302x^3 + 1.4196x^2 + 1.3042x^1 + -0.3319\n",
      "Epoch 5600 | Loss: 0.0439 | f(x) = 1.3367x^3 + 1.4270x^2 + 1.3109x^1 + -0.3402\n",
      "Epoch 5700 | Loss: 0.0419 | f(x) = 1.3431x^3 + 1.4341x^2 + 1.3173x^1 + -0.3483\n",
      "Epoch 5800 | Loss: 0.0401 | f(x) = 1.3493x^3 + 1.4410x^2 + 1.3235x^1 + -0.3561\n",
      "Epoch 5900 | Loss: 0.0383 | f(x) = 1.3553x^3 + 1.4477x^2 + 1.3295x^1 + -0.3637\n",
      "Epoch 6000 | Loss: 0.0367 | f(x) = 1.3612x^3 + 1.4542x^2 + 1.3353x^1 + -0.3710\n",
      "Epoch 6100 | Loss: 0.0351 | f(x) = 1.3669x^3 + 1.4605x^2 + 1.3409x^1 + -0.3782\n",
      "Epoch 6200 | Loss: 0.0337 | f(x) = 1.3725x^3 + 1.4666x^2 + 1.3462x^1 + -0.3852\n",
      "Epoch 6300 | Loss: 0.0323 | f(x) = 1.3780x^3 + 1.4725x^2 + 1.3514x^1 + -0.3919\n",
      "Epoch 6400 | Loss: 0.0310 | f(x) = 1.3833x^3 + 1.4782x^2 + 1.3564x^1 + -0.3985\n",
      "Epoch 6500 | Loss: 0.0298 | f(x) = 1.3886x^3 + 1.4837x^2 + 1.3613x^1 + -0.4048\n",
      "Epoch 6600 | Loss: 0.0286 | f(x) = 1.3936x^3 + 1.4891x^2 + 1.3659x^1 + -0.4110\n",
      "Epoch 6700 | Loss: 0.0276 | f(x) = 1.3986x^3 + 1.4943x^2 + 1.3704x^1 + -0.4170\n",
      "Epoch 6800 | Loss: 0.0265 | f(x) = 1.4034x^3 + 1.4993x^2 + 1.3747x^1 + -0.4228\n",
      "Epoch 6900 | Loss: 0.0256 | f(x) = 1.4082x^3 + 1.5042x^2 + 1.3789x^1 + -0.4285\n",
      "Epoch 7000 | Loss: 0.0247 | f(x) = 1.4128x^3 + 1.5089x^2 + 1.3829x^1 + -0.4340\n",
      "Epoch 7100 | Loss: 0.0238 | f(x) = 1.4173x^3 + 1.5135x^2 + 1.3868x^1 + -0.4393\n",
      "Epoch 7200 | Loss: 0.0230 | f(x) = 1.4217x^3 + 1.5179x^2 + 1.3905x^1 + -0.4445\n",
      "Epoch 7300 | Loss: 0.0223 | f(x) = 1.4260x^3 + 1.5222x^2 + 1.3941x^1 + -0.4495\n",
      "Epoch 7400 | Loss: 0.0216 | f(x) = 1.4302x^3 + 1.5263x^2 + 1.3975x^1 + -0.4544\n",
      "Epoch 7500 | Loss: 0.0209 | f(x) = 1.4343x^3 + 1.5304x^2 + 1.4009x^1 + -0.4591\n",
      "Epoch 7600 | Loss: 0.0203 | f(x) = 1.4383x^3 + 1.5343x^2 + 1.4040x^1 + -0.4637\n",
      "Epoch 7700 | Loss: 0.0197 | f(x) = 1.4422x^3 + 1.5380x^2 + 1.4071x^1 + -0.4682\n",
      "Epoch 7800 | Loss: 0.0191 | f(x) = 1.4461x^3 + 1.5417x^2 + 1.4101x^1 + -0.4726\n",
      "Epoch 7900 | Loss: 0.0186 | f(x) = 1.4498x^3 + 1.5452x^2 + 1.4129x^1 + -0.4768\n",
      "Epoch 8000 | Loss: 0.0181 | f(x) = 1.4535x^3 + 1.5486x^2 + 1.4156x^1 + -0.4809\n",
      "Epoch 8100 | Loss: 0.0177 | f(x) = 1.4571x^3 + 1.5519x^2 + 1.4182x^1 + -0.4849\n",
      "Epoch 8200 | Loss: 0.0172 | f(x) = 1.4606x^3 + 1.5552x^2 + 1.4207x^1 + -0.4888\n",
      "Epoch 8300 | Loss: 0.0168 | f(x) = 1.4640x^3 + 1.5583x^2 + 1.4231x^1 + -0.4925\n",
      "Epoch 8400 | Loss: 0.0164 | f(x) = 1.4674x^3 + 1.5613x^2 + 1.4255x^1 + -0.4962\n",
      "Epoch 8500 | Loss: 0.0160 | f(x) = 1.4707x^3 + 1.5642x^2 + 1.4277x^1 + -0.4998\n",
      "Epoch 8600 | Loss: 0.0157 | f(x) = 1.4739x^3 + 1.5670x^2 + 1.4298x^1 + -0.5032\n",
      "Epoch 8700 | Loss: 0.0154 | f(x) = 1.4771x^3 + 1.5697x^2 + 1.4318x^1 + -0.5066\n",
      "Epoch 8800 | Loss: 0.0151 | f(x) = 1.4802x^3 + 1.5724x^2 + 1.4337x^1 + -0.5099\n",
      "Epoch 8900 | Loss: 0.0148 | f(x) = 1.4832x^3 + 1.5749x^2 + 1.4356x^1 + -0.5130\n",
      "Epoch 9000 | Loss: 0.0145 | f(x) = 1.4862x^3 + 1.5774x^2 + 1.4374x^1 + -0.5161\n",
      "Epoch 9100 | Loss: 0.0142 | f(x) = 1.4891x^3 + 1.5798x^2 + 1.4391x^1 + -0.5191\n",
      "Epoch 9200 | Loss: 0.0140 | f(x) = 1.4920x^3 + 1.5821x^2 + 1.4407x^1 + -0.5220\n",
      "Epoch 9300 | Loss: 0.0137 | f(x) = 1.4948x^3 + 1.5843x^2 + 1.4422x^1 + -0.5249\n",
      "Epoch 9400 | Loss: 0.0135 | f(x) = 1.4975x^3 + 1.5865x^2 + 1.4437x^1 + -0.5276\n",
      "Epoch 9500 | Loss: 0.0133 | f(x) = 1.5002x^3 + 1.5886x^2 + 1.4451x^1 + -0.5303\n",
      "Epoch 9600 | Loss: 0.0131 | f(x) = 1.5029x^3 + 1.5906x^2 + 1.4464x^1 + -0.5329\n",
      "Epoch 9700 | Loss: 0.0129 | f(x) = 1.5055x^3 + 1.5925x^2 + 1.4477x^1 + -0.5355\n",
      "Epoch 9800 | Loss: 0.0128 | f(x) = 1.5080x^3 + 1.5944x^2 + 1.4489x^1 + -0.5380\n",
      "Epoch 9900 | Loss: 0.0126 | f(x) = 1.5105x^3 + 1.5963x^2 + 1.4500x^1 + -0.5404\n"
     ]
    }
   ],
   "source": [
    "model = PolynomialRegression()\n",
    "model.fit(X, Y)"
   ]
  },
  {
   "cell_type": "code",
   "execution_count": 218,
   "id": "326bd687",
   "metadata": {},
   "outputs": [
    {
     "data": {
      "text/plain": [
       "array([[-149.5438999 ],\n",
       "       [-144.85269067],\n",
       "       [-140.26223468],\n",
       "       [-135.77142713],\n",
       "       [-131.37916319]])"
      ]
     },
     "execution_count": 218,
     "metadata": {},
     "output_type": "execute_result"
    }
   ],
   "source": [
    "xs = np.linspace(-5, 5, 200).reshape(-1, 1)\n",
    "ys_pred = model.predict(xs)\n",
    "ys_pred[0:5]"
   ]
  },
  {
   "cell_type": "code",
   "execution_count": 219,
   "id": "cfd8822c",
   "metadata": {},
   "outputs": [
    {
     "data": {
      "image/png": "[encoded data removed]",
      "text/plain": [
       "<Figure size 640x480 with 1 Axes>"
      ]
     },
     "metadata": {},
     "output_type": "display_data"
    }
   ],
   "source": [
    "plt.scatter(X, Y, color='gray', label='Veri')\n",
    "plt.plot(xs, ys_pred, color='red', label='Tahmin')\n",
    "plt.legend()\n",
    "plt.title(\"Polynomial Regression\")\n",
    "plt.show()"
   ]
  },
  {
   "cell_type": "code",
   "execution_count": 220,
   "id": "95b65a12",
   "metadata": {},
   "outputs": [
    {
     "data": {
      "text/plain": [
       "((80, 1), (80, 1), (20, 1), (20, 1))"
      ]
     },
     "execution_count": 220,
     "metadata": {},
     "output_type": "execute_result"
    }
   ],
   "source": [
    "## Split the data into training and test sets\n",
    "def train_test_split(X, y, test_size=0.2, seed=None):\n",
    "    if seed is not None:\n",
    "        np.random.seed(seed)\n",
    "    m = len(X)\n",
    "    indices = np.random.permutation(m)\n",
    "    test_size = int(m * test_size)\n",
    "    test_indices = indices[:test_size]\n",
    "    train_indices = indices[test_size:]\n",
    "    return X[train_indices], y[train_indices], X[test_indices], y[test_indices]\n",
    "\n",
    "X_train, y_train, X_test, y_test = train_test_split(X, Y, test_size=0.2, seed=42)\n",
    "\n",
    "X_train.shape, y_train.shape, X_test.shape, y_test.shape"
   ]
  },
  {
   "cell_type": "code",
   "execution_count": 221,
   "id": "930d6fcd",
   "metadata": {},
   "outputs": [
    {
     "name": "stdout",
     "output_type": "stream",
     "text": [
      "Epoch 0 | Loss: 2.5685 | f(x) = 0.0016x^1 + 0.0020\n",
      "Epoch 100 | Loss: 2.0336 | f(x) = 0.1513x^1 + 0.1770\n",
      "Epoch 200 | Loss: 1.6997 | f(x) = 0.2775x^1 + 0.3081\n",
      "Epoch 300 | Loss: 1.4877 | f(x) = 0.3854x^1 + 0.4051\n",
      "Epoch 400 | Loss: 1.3497 | f(x) = 0.4789x^1 + 0.4755\n",
      "Epoch 500 | Loss: 1.2566 | f(x) = 0.5611x^1 + 0.5254\n",
      "Epoch 600 | Loss: 1.1909 | f(x) = 0.6344x^1 + 0.5594\n",
      "Epoch 700 | Loss: 1.1420 | f(x) = 0.7007x^1 + 0.5810\n",
      "Epoch 800 | Loss: 1.1035 | f(x) = 0.7615x^1 + 0.5930\n",
      "Epoch 900 | Loss: 1.0715 | f(x) = 0.8178x^1 + 0.5977\n",
      "Epoch 0 | Loss: 2.5685 | f(x) = 0.0164x^1 + 0.0201\n",
      "Epoch 100 | Loss: 1.0430 | f(x) = 0.8764x^1 + 0.5983\n",
      "Epoch 200 | Loss: 0.8363 | f(x) = 1.3047x^1 + 0.4570\n",
      "Epoch 300 | Loss: 0.6769 | f(x) = 1.6612x^1 + 0.2785\n",
      "Epoch 400 | Loss: 0.5492 | f(x) = 1.9782x^1 + 0.1146\n",
      "Epoch 500 | Loss: 0.4468 | f(x) = 2.2618x^1 + -0.0324\n",
      "Epoch 600 | Loss: 0.3648 | f(x) = 2.5157x^1 + -0.1640\n",
      "Epoch 700 | Loss: 0.2991 | f(x) = 2.7431x^1 + -0.2819\n",
      "Epoch 800 | Loss: 0.2464 | f(x) = 2.9466x^1 + -0.3874\n",
      "Epoch 900 | Loss: 0.2042 | f(x) = 3.1287x^1 + -0.4819\n",
      "Epoch 0 | Loss: 2.5685 | f(x) = 0.1636x^1 + 0.2012\n",
      "Epoch 100 | Loss: 0.1688 | f(x) = 3.3134x^1 + -0.5776\n",
      "Epoch 200 | Loss: 0.0483 | f(x) = 4.2344x^1 + -1.0552\n",
      "Epoch 300 | Loss: 0.0353 | f(x) = 4.5373x^1 + -1.2123\n",
      "Epoch 400 | Loss: 0.0339 | f(x) = 4.6369x^1 + -1.2640\n",
      "Epoch 500 | Loss: 0.0337 | f(x) = 4.6696x^1 + -1.2809\n",
      "Epoch 600 | Loss: 0.0337 | f(x) = 4.6804x^1 + -1.2865\n",
      "Epoch 700 | Loss: 0.0337 | f(x) = 4.6840x^1 + -1.2884\n",
      "Epoch 800 | Loss: 0.0337 | f(x) = 4.6851x^1 + -1.2890\n",
      "Epoch 900 | Loss: 0.0337 | f(x) = 4.6855x^1 + -1.2892\n",
      "Epoch 0 | Loss: 2.5685 | f(x) = 0.0016x^2 + 0.0013x^1 + 0.0020\n",
      "Epoch 100 | Loss: 1.9096 | f(x) = 0.1487x^2 + 0.1205x^1 + 0.1735\n",
      "Epoch 200 | Loss: 1.5116 | f(x) = 0.2684x^2 + 0.2210x^1 + 0.2960\n",
      "Epoch 300 | Loss: 1.2650 | f(x) = 0.3671x^2 + 0.3071x^1 + 0.3815\n",
      "Epoch 400 | Loss: 1.1064 | f(x) = 0.4497x^2 + 0.3821x^1 + 0.4389\n",
      "Epoch 500 | Loss: 0.9992 | f(x) = 0.5199x^2 + 0.4484x^1 + 0.4752\n",
      "Epoch 600 | Loss: 0.9225 | f(x) = 0.5805x^2 + 0.5079x^1 + 0.4956\n",
      "Epoch 700 | Loss: 0.8639 | f(x) = 0.6337x^2 + 0.5621x^1 + 0.5041\n",
      "Epoch 800 | Loss: 0.8163 | f(x) = 0.6811x^2 + 0.6120x^1 + 0.5036\n",
      "Epoch 900 | Loss: 0.7757 | f(x) = 0.7240x^2 + 0.6585x^1 + 0.4966\n",
      "Epoch 0 | Loss: 2.5685 | f(x) = 0.0164x^2 + 0.0130x^1 + 0.0201\n",
      "Epoch 100 | Loss: 0.7390 | f(x) = 0.7679x^2 + 0.7071x^1 + 0.4850\n",
      "Epoch 200 | Loss: 0.4807 | f(x) = 1.0604x^2 + 1.0586x^1 + 0.2721\n",
      "Epoch 300 | Loss: 0.3154 | f(x) = 1.2773x^2 + 1.3299x^1 + 0.0636\n",
      "Epoch 400 | Loss: 0.2073 | f(x) = 1.4514x^2 + 1.5487x^1 + -0.1073\n",
      "Epoch 500 | Loss: 0.1366 | f(x) = 1.5920x^2 + 1.7256x^1 + -0.2455\n",
      "Epoch 600 | Loss: 0.0904 | f(x) = 1.7055x^2 + 1.8688x^1 + -0.3573\n",
      "Epoch 700 | Loss: 0.0602 | f(x) = 1.7972x^2 + 1.9847x^1 + -0.4477\n",
      "Epoch 800 | Loss: 0.0404 | f(x) = 1.8712x^2 + 2.0785x^1 + -0.5207\n",
      "Epoch 900 | Loss: 0.0275 | f(x) = 1.9309x^2 + 2.1545x^1 + -0.5798\n",
      "Epoch 0 | Loss: 2.5685 | f(x) = 0.1636x^2 + 0.1304x^1 + 0.2012\n",
      "Epoch 100 | Loss: 0.0184 | f(x) = 1.9871x^2 + 2.2262x^1 + -0.6354\n",
      "Epoch 200 | Loss: 0.0033 | f(x) = 2.1560x^2 + 2.4505x^1 + -0.8057\n",
      "Epoch 300 | Loss: 0.0031 | f(x) = 2.1706x^2 + 2.4817x^1 + -0.8246\n",
      "Epoch 400 | Loss: 0.0031 | f(x) = 2.1674x^2 + 2.4900x^1 + -0.8259\n",
      "Epoch 500 | Loss: 0.0031 | f(x) = 2.1623x^2 + 2.4955x^1 + -0.8251\n",
      "Epoch 600 | Loss: 0.0031 | f(x) = 2.1572x^2 + 2.5004x^1 + -0.8241\n",
      "Epoch 700 | Loss: 0.0031 | f(x) = 2.1523x^2 + 2.5052x^1 + -0.8232\n",
      "Epoch 800 | Loss: 0.0031 | f(x) = 2.1476x^2 + 2.5097x^1 + -0.8222\n",
      "Epoch 900 | Loss: 0.0031 | f(x) = 2.1430x^2 + 2.5140x^1 + -0.8213\n",
      "Epoch 0 | Loss: 2.5685 | f(x) = 0.0016x^3 + 0.0013x^2 + 0.0011x^1 + 0.0020\n",
      "Epoch 100 | Loss: 1.8278 | f(x) = 0.1471x^3 + 0.1192x^2 + 0.0987x^1 + 0.1715\n",
      "Epoch 200 | Loss: 1.3902 | f(x) = 0.2627x^3 + 0.2163x^2 + 0.1805x^1 + 0.2891\n",
      "Epoch 300 | Loss: 1.1239 | f(x) = 0.3558x^3 + 0.2976x^2 + 0.2501x^1 + 0.3682\n",
      "Epoch 400 | Loss: 0.9549 | f(x) = 0.4318x^3 + 0.3669x^2 + 0.3104x^1 + 0.4187\n",
      "Epoch 500 | Loss: 0.8416 | f(x) = 0.4949x^3 + 0.4268x^2 + 0.3635x^1 + 0.4480\n",
      "Epoch 600 | Loss: 0.7606 | f(x) = 0.5482x^3 + 0.4796x^2 + 0.4109x^1 + 0.4617\n",
      "Epoch 700 | Loss: 0.6988 | f(x) = 0.5938x^3 + 0.5267x^2 + 0.4538x^1 + 0.4639\n",
      "Epoch 800 | Loss: 0.6487 | f(x) = 0.6336x^3 + 0.5694x^2 + 0.4932x^1 + 0.4577\n",
      "Epoch 900 | Loss: 0.6061 | f(x) = 0.6690x^3 + 0.6085x^2 + 0.5297x^1 + 0.4456\n",
      "Epoch 0 | Loss: 2.5685 | f(x) = 0.0164x^3 + 0.0130x^2 + 0.0107x^1 + 0.0201\n",
      "Epoch 100 | Loss: 0.5676 | f(x) = 0.7047x^3 + 0.6490x^2 + 0.5676x^1 + 0.4288\n",
      "Epoch 200 | Loss: 0.3152 | f(x) = 0.9263x^3 + 0.9234x^2 + 0.8309x^1 + 0.1966\n",
      "Epoch 300 | Loss: 0.1785 | f(x) = 1.0779x^3 + 1.1161x^2 + 1.0161x^1 + -0.0051\n",
      "Epoch 400 | Loss: 0.1031 | f(x) = 1.1923x^3 + 1.2581x^2 + 1.1509x^1 + -0.1570\n",
      "Epoch 500 | Loss: 0.0615 | f(x) = 1.2799x^3 + 1.3631x^2 + 1.2488x^1 + -0.2705\n",
      "Epoch 600 | Loss: 0.0385 | f(x) = 1.3475x^3 + 1.4406x^2 + 1.3192x^1 + -0.3555\n",
      "Epoch 700 | Loss: 0.0257 | f(x) = 1.4003x^3 + 1.4976x^2 + 1.3693x^1 + -0.4192\n",
      "Epoch 800 | Loss: 0.0186 | f(x) = 1.4421x^3 + 1.5396x^2 + 1.4044x^1 + -0.4672\n",
      "Epoch 900 | Loss: 0.0146 | f(x) = 1.4757x^3 + 1.5703x^2 + 1.4283x^1 + -0.5035\n",
      "Epoch 0 | Loss: 2.5685 | f(x) = 0.1636x^3 + 0.1304x^2 + 0.1072x^1 + 0.2012\n",
      "Epoch 100 | Loss: 0.0121 | f(x) = 1.5074x^3 + 1.5970x^2 + 1.4477x^1 + -0.5360\n",
      "Epoch 200 | Loss: 0.0081 | f(x) = 1.6472x^3 + 1.6426x^2 + 1.4309x^1 + -0.6245\n",
      "Epoch 300 | Loss: 0.0068 | f(x) = 1.7350x^3 + 1.6307x^2 + 1.3643x^1 + -0.6497\n",
      "Epoch 400 | Loss: 0.0058 | f(x) = 1.8119x^3 + 1.6168x^2 + 1.3026x^1 + -0.6695\n",
      "Epoch 500 | Loss: 0.0050 | f(x) = 1.8808x^3 + 1.6037x^2 + 1.2479x^1 + -0.6872\n",
      "Epoch 600 | Loss: 0.0043 | f(x) = 1.9425x^3 + 1.5914x^2 + 1.1994x^1 + -0.7029\n",
      "Epoch 700 | Loss: 0.0038 | f(x) = 1.9980x^3 + 1.5797x^2 + 1.1565x^1 + -0.7171\n",
      "Epoch 800 | Loss: 0.0033 | f(x) = 2.0478x^3 + 1.5687x^2 + 1.1186x^1 + -0.7297\n",
      "Epoch 900 | Loss: 0.0030 | f(x) = 2.0925x^3 + 1.5581x^2 + 1.0852x^1 + -0.7410\n",
      "Epoch 0 | Loss: 2.5685 | f(x) = 0.0016x^4 + 0.0013x^3 + 0.0011x^2 + 0.0009x^1 + 0.0020\n",
      "Epoch 100 | Loss: 1.7706 | f(x) = 0.1460x^4 + 0.1182x^3 + 0.0979x^2 + 0.0831x^1 + 0.1702\n",
      "Epoch 200 | Loss: 1.3070 | f(x) = 0.2589x^4 + 0.2130x^3 + 0.1776x^2 + 0.1515x^1 + 0.2848\n",
      "Epoch 300 | Loss: 1.0292 | f(x) = 0.3483x^4 + 0.2910x^3 + 0.2443x^2 + 0.2091x^1 + 0.3600\n",
      "Epoch 400 | Loss: 0.8553 | f(x) = 0.4201x^4 + 0.3564x^3 + 0.3011x^2 + 0.2587x^1 + 0.4063\n",
      "Epoch 500 | Loss: 0.7400 | f(x) = 0.4786x^4 + 0.4120x^3 + 0.3502x^2 + 0.3019x^1 + 0.4315\n",
      "Epoch 600 | Loss: 0.6584 | f(x) = 0.5271x^4 + 0.4603x^3 + 0.3934x^2 + 0.3402x^1 + 0.4414\n",
      "Epoch 700 | Loss: 0.5967 | f(x) = 0.5681x^4 + 0.5027x^3 + 0.4320x^2 + 0.3746x^1 + 0.4403\n",
      "Epoch 800 | Loss: 0.5470 | f(x) = 0.6032x^4 + 0.5407x^3 + 0.4669x^2 + 0.4058x^1 + 0.4312\n",
      "Epoch 900 | Loss: 0.5051 | f(x) = 0.6340x^4 + 0.5750x^3 + 0.4988x^2 + 0.4346x^1 + 0.4166\n",
      "Epoch 0 | Loss: 2.5685 | f(x) = 0.0164x^4 + 0.0130x^3 + 0.0107x^2 + 0.0091x^1 + 0.0201\n",
      "Epoch 100 | Loss: 0.4677 | f(x) = 0.6648x^4 + 0.6103x^3 + 0.5317x^2 + 0.4642x^1 + 0.3975\n",
      "Epoch 200 | Loss: 0.2377 | f(x) = 0.8472x^4 + 0.8376x^3 + 0.7473x^2 + 0.6596x^1 + 0.1631\n",
      "Epoch 300 | Loss: 0.1294 | f(x) = 0.9674x^4 + 0.9867x^3 + 0.8861x^2 + 0.7831x^1 + -0.0249\n",
      "Epoch 400 | Loss: 0.0772 | f(x) = 1.0570x^4 + 1.0904x^3 + 0.9783x^2 + 0.8623x^1 + -0.1581\n",
      "Epoch 500 | Loss: 0.0518 | f(x) = 1.1261x^4 + 1.1631x^3 + 1.0389x^2 + 0.9114x^1 + -0.2523\n",
      "Epoch 600 | Loss: 0.0391 | f(x) = 1.1809x^4 + 1.2144x^3 + 1.0776x^2 + 0.9398x^1 + -0.3196\n",
      "Epoch 700 | Loss: 0.0325 | f(x) = 1.2257x^4 + 1.2510x^3 + 1.1013x^2 + 0.9539x^1 + -0.3682\n",
      "Epoch 800 | Loss: 0.0289 | f(x) = 1.2634x^4 + 1.2773x^3 + 1.1147x^2 + 0.9585x^1 + -0.4040\n",
      "Epoch 900 | Loss: 0.0267 | f(x) = 1.2962x^4 + 1.2965x^3 + 1.1211x^2 + 0.9564x^1 + -0.4307\n",
      "Epoch 0 | Loss: 2.5685 | f(x) = 0.1636x^4 + 0.1304x^3 + 0.1072x^2 + 0.0907x^1 + 0.2012\n",
      "Epoch 100 | Loss: 0.0251 | f(x) = 1.3289x^4 + 1.3134x^3 + 1.1241x^2 + 0.9505x^1 + -0.4547\n",
      "Epoch 200 | Loss: 0.0170 | f(x) = 1.5421x^4 + 1.3658x^3 + 1.0603x^2 + 0.8188x^1 + -0.5442\n",
      "Epoch 300 | Loss: 0.0119 | f(x) = 1.7067x^4 + 1.3903x^3 + 0.9900x^2 + 0.6955x^1 + -0.5964\n",
      "Epoch 400 | Loss: 0.0085 | f(x) = 1.8423x^4 + 1.4085x^3 + 0.9316x^2 + 0.5954x^1 + -0.6387\n",
      "Epoch 500 | Loss: 0.0062 | f(x) = 1.9544x^4 + 1.4218x^3 + 0.8832x^2 + 0.5146x^1 + -0.6735\n",
      "Epoch 600 | Loss: 0.0047 | f(x) = 2.0472x^4 + 1.4313x^3 + 0.8431x^2 + 0.4496x^1 + -0.7021\n",
      "Epoch 700 | Loss: 0.0036 | f(x) = 2.1242x^4 + 1.4376x^3 + 0.8098x^2 + 0.3975x^1 + -0.7257\n",
      "Epoch 800 | Loss: 0.0029 | f(x) = 2.1883x^4 + 1.4412x^3 + 0.7820x^2 + 0.3561x^1 + -0.7452\n",
      "Epoch 900 | Loss: 0.0025 | f(x) = 2.2418x^4 + 1.4427x^3 + 0.7587x^2 + 0.3233x^1 + -0.7612\n",
      "Epoch 0 | Loss: 2.5685 | f(x) = 0.0016x^5 + 0.0013x^4 + 0.0011x^3 + 0.0009x^2 + 0.0008x^1 + 0.0020\n",
      "Epoch 100 | Loss: 1.7285 | f(x) = 0.1452x^5 + 0.1175x^4 + 0.0972x^3 + 0.0826x^2 + 0.0717x^1 + 0.1693\n",
      "Epoch 200 | Loss: 1.2472 | f(x) = 0.2562x^5 + 0.2106x^4 + 0.1754x^3 + 0.1495x^2 + 0.1301x^1 + 0.2818\n",
      "Epoch 300 | Loss: 0.9626 | f(x) = 0.3429x^5 + 0.2862x^4 + 0.2399x^3 + 0.2052x^2 + 0.1790x^1 + 0.3544\n",
      "Epoch 400 | Loss: 0.7868 | f(x) = 0.4118x^5 + 0.3487x^4 + 0.2941x^3 + 0.2523x^2 + 0.2205x^1 + 0.3980\n",
      "Epoch 500 | Loss: 0.6717 | f(x) = 0.4672x^5 + 0.4013x^4 + 0.3404x^3 + 0.2928x^2 + 0.2564x^1 + 0.4206\n",
      "Epoch 600 | Loss: 0.5911 | f(x) = 0.5125x^5 + 0.4464x^4 + 0.3805x^3 + 0.3283x^2 + 0.2879x^1 + 0.4283\n",
      "Epoch 700 | Loss: 0.5308 | f(x) = 0.5504x^5 + 0.4856x^4 + 0.4160x^3 + 0.3597x^2 + 0.3159x^1 + 0.4252\n",
      "Epoch 800 | Loss: 0.4829 | f(x) = 0.5825x^5 + 0.5202x^4 + 0.4476x^3 + 0.3879x^2 + 0.3411x^1 + 0.4146\n",
      "Epoch 900 | Loss: 0.4429 | f(x) = 0.6103x^5 + 0.5513x^4 + 0.4763x^3 + 0.4135x^2 + 0.3639x^1 + 0.3988\n",
      "Epoch 0 | Loss: 2.5685 | f(x) = 0.0164x^5 + 0.0130x^4 + 0.0107x^3 + 0.0091x^2 + 0.0079x^1 + 0.0201\n",
      "Epoch 100 | Loss: 0.4075 | f(x) = 0.6380x^5 + 0.5830x^4 + 0.5056x^3 + 0.4398x^2 + 0.3874x^1 + 0.3785\n",
      "Epoch 200 | Loss: 0.2022 | f(x) = 0.7978x^5 + 0.7805x^4 + 0.6896x^3 + 0.6035x^2 + 0.5328x^1 + 0.1480\n",
      "Epoch 300 | Loss: 0.1157 | f(x) = 0.9029x^5 + 0.9049x^4 + 0.8001x^3 + 0.6978x^2 + 0.6134x^1 + -0.0268\n",
      "Epoch 400 | Loss: 0.0777 | f(x) = 0.9832x^5 + 0.9894x^4 + 0.8690x^3 + 0.7519x^2 + 0.6561x^1 + -0.1456\n",
      "Epoch 500 | Loss: 0.0602 | f(x) = 1.0476x^5 + 1.0483x^4 + 0.9112x^3 + 0.7804x^2 + 0.6748x^1 + -0.2271\n",
      "Epoch 600 | Loss: 0.0513 | f(x) = 1.1014x^5 + 1.0904x^4 + 0.9361x^3 + 0.7926x^2 + 0.6783x^1 + -0.2843\n",
      "Epoch 700 | Loss: 0.0462 | f(x) = 1.1480x^5 + 1.1216x^4 + 0.9500x^3 + 0.7943x^2 + 0.6721x^1 + -0.3257\n",
      "Epoch 800 | Loss: 0.0427 | f(x) = 1.1896x^5 + 1.1456x^4 + 0.9568x^3 + 0.7895x^2 + 0.6600x^1 + -0.3566\n",
      "Epoch 900 | Loss: 0.0399 | f(x) = 1.2276x^5 + 1.1649x^4 + 0.9590x^3 + 0.7806x^2 + 0.6442x^1 + -0.3807\n",
      "Epoch 0 | Loss: 2.5685 | f(x) = 0.1636x^5 + 0.1304x^4 + 0.1072x^3 + 0.0907x^2 + 0.0786x^1 + 0.2012\n",
      "Epoch 100 | Loss: 0.0375 | f(x) = 1.2669x^5 + 1.1831x^4 + 0.9589x^3 + 0.7687x^2 + 0.6250x^1 + -0.4031\n",
      "Epoch 200 | Loss: 0.0216 | f(x) = 1.5484x^5 + 1.2814x^4 + 0.9132x^3 + 0.6340x^2 + 0.4379x^1 + -0.5163\n",
      "Epoch 300 | Loss: 0.0128 | f(x) = 1.7568x^5 + 1.3458x^4 + 0.8707x^3 + 0.5275x^2 + 0.2949x^1 + -0.5920\n",
      "Epoch 400 | Loss: 0.0079 | f(x) = 1.9145x^5 + 1.3911x^4 + 0.8370x^3 + 0.4484x^2 + 0.1907x^1 + -0.6485\n",
      "Epoch 500 | Loss: 0.0052 | f(x) = 2.0344x^5 + 1.4224x^4 + 0.8101x^3 + 0.3897x^2 + 0.1155x^1 + -0.6910\n",
      "Epoch 600 | Loss: 0.0037 | f(x) = 2.1260x^5 + 1.4431x^4 + 0.7882x^3 + 0.3462x^2 + 0.0617x^1 + -0.7230\n",
      "Epoch 700 | Loss: 0.0028 | f(x) = 2.1967x^5 + 1.4561x^4 + 0.7700x^3 + 0.3141x^2 + 0.0240x^1 + -0.7472\n",
      "Epoch 800 | Loss: 0.0023 | f(x) = 2.2517x^5 + 1.4633x^4 + 0.7547x^3 + 0.2904x^2 + -0.0018x^1 + -0.7656\n",
      "Epoch 900 | Loss: 0.0020 | f(x) = 2.2950x^5 + 1.4662x^4 + 0.7415x^3 + 0.2730x^2 + -0.0187x^1 + -0.7796\n",
      "Best Model Parameters: Degree=5, Learning Rate=0.1\n"
     ]
    }
   ],
   "source": [
    "## Grid Search \n",
    "def grid_search(X_train, y_train, X_test, y_test, degrees, lrs, epochs):\n",
    "    best_model = None\n",
    "    best_score = float('inf')\n",
    "    best_params = None\n",
    "\n",
    "    for degree in degrees:\n",
    "        for lr in lrs:\n",
    "            model = PolynomialRegression(degree=degree, lr=lr, epochs=epochs)\n",
    "            model.fit(X_train, y_train)\n",
    "            y_pred = model.predict(X_test)\n",
    "            score = np.mean((y_pred - y_test) ** 2)\n",
    "\n",
    "            if score < best_score:\n",
    "                best_score = score\n",
    "                best_model = model\n",
    "                best_params = (degree, lr)\n",
    "\n",
    "    return best_model, best_params\n",
    "\n",
    "degrees = [1, 2, 3, 4, 5]\n",
    "lrs = [0.001, 0.01, 0.1]\n",
    "\n",
    "best_model, best_params = grid_search(X_train, y_train, X_test, y_test, degrees, lrs, epochs=1000)\n",
    "print(f\"Best Model Parameters: Degree={best_params[0]}, Learning Rate={best_params[1]}\")\n",
    "y_pred = best_model.predict(X_test)\n"
   ]
  },
  {
   "cell_type": "code",
   "execution_count": 225,
   "id": "fee0915c",
   "metadata": {},
   "outputs": [
    {
     "data": {
      "text/plain": [
       "array([[0.16465585],\n",
       "       [0.98342314],\n",
       "       [0.2017192 ],\n",
       "       [0.45653457],\n",
       "       [0.71227059]])"
      ]
     },
     "execution_count": 225,
     "metadata": {},
     "output_type": "execute_result"
    }
   ],
   "source": [
    "X_train[0:5]"
   ]
  },
  {
   "cell_type": "code",
   "execution_count": 224,
   "id": "aa30af03",
   "metadata": {},
   "outputs": [
    {
     "data": {
      "text/plain": [
       "<matplotlib.legend.Legend at 0x228d5d03e90>"
      ]
     },
     "execution_count": 224,
     "metadata": {},
     "output_type": "execute_result"
    },
    {
     "data": {
      "image/png": "[encoded data removed]",
      "text/plain": [
       "<Figure size 640x480 with 1 Axes>"
      ]
     },
     "metadata": {},
     "output_type": "display_data"
    }
   ],
   "source": [
    "plt.scatter(X_train, f(X_train) , color='gray', label='Real Data')\n",
    "plt.scatter(X_test, y_pred, color='red', label='Best Model Prediction')\n",
    "plt.legend()"
   ]
  }
 ],
 "metadata": {
  "kernelspec": {
   "display_name": "Python 3",
   "language": "python",
   "name": "python3"
  },
  "language_info": {
   "codemirror_mode": {
    "name": "ipython",
    "version": 3
   },
   "file_extension": ".py",
   "mimetype": "text/x-python",
   "name": "python",
   "nbconvert_exporter": "python",
   "pygments_lexer": "ipython3",
   "version": "3.11.3"
  }
 },
 "nbformat": 4,
 "nbformat_minor": 5
}
